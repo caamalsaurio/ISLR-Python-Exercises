{
 "cells": [
  {
   "cell_type": "markdown",
   "metadata": {},
   "source": [
    "# ISLR- Python: Ch3 -- Applied Question 11"
   ]
  },
  {
   "cell_type": "code",
   "execution_count": null,
   "metadata": {
    "collapsed": true
   },
   "outputs": [],
   "source": [
    "# perform standard imports\n",
    "import numpy as np\n",
    "import statsmodels.formula.api as smf\n",
    "import pandas as pd\n",
    "\n",
    "from matplotlib import pyplot as plt\n",
    "\n",
    "%matplotlib inline"
   ]
  },
  {
   "cell_type": "markdown",
   "metadata": {},
   "source": [
    "In this problem we will investigate the t-statistic for the null hypothesis $H_0 : \\beta = 0$ in simple linear regression without an intercept. To begin, we generate a predictor x and a response y as follows."
   ]
  },
  {
   "cell_type": "code",
   "execution_count": null,
   "metadata": {},
   "outputs": [],
   "source": [
    "np.random.seed(1)\n",
    "x = np.random.normal(size=100)\n",
    "y = 2*x + np.random.normal(size=100)\n",
    "df = pd.DataFrame({'x':x, 'y':y})\n",
    "\n",
    "fig, ax = plt.subplots(figsize=(8,6))\n",
    "ax.scatter(df.x, df.y);"
   ]
  },
  {
   "cell_type": "markdown",
   "metadata": {},
   "source": [
    "## (a) Perform a simple linear regression of y onto x, without an intercept.\n",
    "\n",
    "Report the coefficient estimate $\\hat{\\beta}$, the standard error of this coefficient estimate, and the t-statistic and p-value associated with the null hypothesis $H_0 : \\beta = 0$. Comment on these results. (You can perform regression without an intercept using the command `ols('y ∼ x - 1)`.)"
   ]
  },
  {
   "cell_type": "code",
   "execution_count": null,
   "metadata": {},
   "outputs": [],
   "source": [
    "lm_fit = smf.ols('y ~ x -1', df).fit()\n",
    "lm_fit.summary()"
   ]
  },
  {
   "cell_type": "markdown",
   "metadata": {},
   "source": [
    "The slope (coeffecient) for the x predictor without an intercept is 2.12. This slope has a high t-statistic and low p-value (i.e. significant), which is expected since we know the form ${Y=2X+\\epsilon}$"
   ]
  },
  {
   "cell_type": "markdown",
   "metadata": {},
   "source": [
    "## (b) Now perform a simple linear regression of x onto y without an intercept.\n",
    "\n",
    "Report the coefficient estimate, its standard error, and the corresponding t-statistic and p-values associated with\n",
    "the null hypothesis $H_0 : \\beta = 0$. Comment on these results."
   ]
  },
  {
   "cell_type": "code",
   "execution_count": null,
   "metadata": {},
   "outputs": [],
   "source": []
  },
  {
   "cell_type": "markdown",
   "metadata": {},
   "source": []
  },
  {
   "cell_type": "markdown",
   "metadata": {},
   "source": [
    "## (c) What is the relationship between the results obtained in (a) and (b)?"
   ]
  },
  {
   "cell_type": "markdown",
   "metadata": {},
   "source": []
  },
  {
   "cell_type": "markdown",
   "metadata": {},
   "source": [
    "## (d)\n",
    "\n",
    "For the regression of Y onto X without an intercept, the t-statistic for $H_0 : \\beta = 0$ takes the form $\\hat{\\beta}/SE(\\hat{\\beta})$, where $\\hat{\\beta}$ is given by (3.38), and where\n",
    "$$\n",
    "{SE\\left(\\hat{\\beta}\\right)}\n",
    "= \\sqrt{\n",
    "    \\frac{\\sum_{i=1}^{n}{\\left(y_i-x_i\\hat{\\beta}\\right)^2}}{\\left(n-1\\right)\\sum_{i=1}^{n}{x_i^2}}\n",
    "}\n",
    "$$\n",
    "(These formulas are slightly different from those given in Sections 3.1.1 and 3.1.2, since here we are performing regression without an intercept.) Show algebraically, and confirm numerically, that the t-statistic can be written as\n",
    "$$\n",
    "t = \\frac{(\\sqrt{n-1})\\sum_{i=1}^{n}x_i y_i}{\\sqrt{(\\sum_{i=1}^{n}x_i^2)(\\sum_{i=1}^{n}y_i^2) - (\\sum_{i=1}^{n}x_i y_i)^2}}\n",
    "$$"
   ]
  },
  {
   "cell_type": "markdown",
   "metadata": {},
   "source": [
    "Numerically:"
   ]
  },
  {
   "cell_type": "code",
   "execution_count": null,
   "metadata": {},
   "outputs": [],
   "source": []
  },
  {
   "cell_type": "markdown",
   "metadata": {},
   "source": []
  },
  {
   "cell_type": "markdown",
   "metadata": {},
   "source": [
    "## (e) Using the results from (d), argue that the t-statistic for the regression of y onto x is the same as the t-statistic for the regression of x onto y."
   ]
  },
  {
   "cell_type": "markdown",
   "metadata": {},
   "source": []
  },
  {
   "cell_type": "code",
   "execution_count": null,
   "metadata": {},
   "outputs": [],
   "source": []
  },
  {
   "cell_type": "markdown",
   "metadata": {},
   "source": [
    "## (f) In Python, show that when regression is performed with an intercept, the t-statistic for $H_0 : \\beta_1 = 0$ is the same for the regression of y onto x as it is for the regression of x onto y ."
   ]
  },
  {
   "cell_type": "code",
   "execution_count": null,
   "metadata": {},
   "outputs": [],
   "source": []
  }
 ],
 "metadata": {
  "kernelspec": {
   "display_name": "Python 3",
   "language": "python",
   "name": "python3"
  },
  "language_info": {
   "codemirror_mode": {
    "name": "ipython",
    "version": 3
   },
   "file_extension": ".py",
   "mimetype": "text/x-python",
   "name": "python",
   "nbconvert_exporter": "python",
   "pygments_lexer": "ipython3",
   "version": "3.6.1"
  },
  "varInspector": {
   "cols": {
    "lenName": 16,
    "lenType": 16,
    "lenVar": 40
   },
   "kernels_config": {
    "python": {
     "delete_cmd_postfix": "",
     "delete_cmd_prefix": "del ",
     "library": "var_list.py",
     "varRefreshCmd": "print(var_dic_list())"
    },
    "r": {
     "delete_cmd_postfix": ") ",
     "delete_cmd_prefix": "rm(",
     "library": "var_list.r",
     "varRefreshCmd": "cat(var_dic_list()) "
    }
   },
   "types_to_exclude": [
    "module",
    "function",
    "builtin_function_or_method",
    "instance",
    "_Feature"
   ],
   "window_display": false
  }
 },
 "nbformat": 4,
 "nbformat_minor": 1
}
